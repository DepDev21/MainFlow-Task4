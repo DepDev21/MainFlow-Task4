# ✅ Import libraries
import pandas as pd
import seaborn as sns
import matplotlib.pyplot as plt
from sklearn.preprocessing import MinMaxScaler, OneHotEncoder
from sklearn.model_selection import train_test_split
from sklearn.linear_model import LinearRegression
from sklearn.metrics import mean_squared_error, r2_score
import numpy as np

# ✅ 1) Load dataset
df = pd.read_csv('house_prices.csv')
print("First rows:\n", df.head())

# ✅ 2) Inspect
print("\nMissing values:\n", df.isnull().sum())
print("\nDescriptive stats:\n", df.describe())

# ✅ Distributions
sns.histplot(df['Size'], kde=True)
plt.title('Distribution of Size')
plt.show()

sns.histplot(df['Price'], kde=True)
plt.title('Distribution of Price')
plt.show()

# ✅ Boxplots for outliers
sns.boxplot(x=df['Size'])
plt.title('Boxplot - Size')
plt.show()

sns.boxplot(x=df['Price'])
plt.title('Boxplot - Price')
plt.show()

# ✅ 3) Preprocessing
scaler = MinMaxScaler()
df[['Size', 'Number_of_Rooms']] = scaler.fit_transform(df[['Size', 'Number_of_Rooms']])

# One-Hot Encode Location
df = pd.get_dummies(df, columns=['Location'])
print("\nPreprocessed Data:\n", df.head())

# ✅ 4) Feature Selection - Correlation
corr = df.corr()
print("\nCorrelation with Price:\n", corr['Price'].sort_values(ascending=False))

plt.figure(figsize=(8,6))
sns.heatmap(corr, annot=True, cmap='coolwarm')
plt.title('Correlation Matrix')
plt.show()

# ✅ 5) Train-Test Split & Model
X = df.drop('Price', axis=1)
y = df['Price']
X_train, X_test, y_train, y_test = train_test_split(X, y, test_size=0.2, random_state=42)

model = LinearRegression()
model.fit(X_train, y_train)
print("\n✅ Model trained.")

# ✅ 6) Evaluation
y_pred = model.predict(X_test)
rmse = np.sqrt(mean_squared_error(y_test, y_pred))
r2 = r2_score(y_test, y_pred)

print(f"\nRMSE: {rmse:.2f}")
print(f"R²: {r2:.2f}")

results = pd.DataFrame({'Actual': y_test, 'Predicted': y_pred})
print("\nActual vs Predicted:\n", results)

# ✅ 7) Feature Insights
coef = pd.Series(model.coef_, index=X.columns)
print("\nFeature Coefficients:\n", coef.sort_values(ascending=False))
