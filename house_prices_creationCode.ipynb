import pandas as pd

# Sample data
data = {
    'Size': [1500, 1800, 2400, 3000, 3500, 4000, 1200, 2200, 2800, 3200],
    'Location': ['urban', 'suburban', 'urban', 'urban', 'suburban', 'rural', 'rural', 'suburban', 'urban', 'rural'],
    'Number_of_Rooms': [3, 4, 4, 5, 5, 6, 2, 4, 5, 6],
    'Price': [300000, 350000, 420000, 500000, 550000, 450000, 200000, 380000, 480000, 400000]
}

df = pd.DataFrame(data)
df.to_csv('house_prices.csv', index=False)

print("✅ house_prices.csv created successfully!")
df
